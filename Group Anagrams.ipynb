{
 "cells": [
  {
   "cell_type": "code",
   "execution_count": null,
   "id": "52f7ad95",
   "metadata": {},
   "outputs": [],
   "source": [
    "class Solution:\n",
    "    def groupAnagrams(self, strs: List[str]) -> List[List[str]]:\n",
    "        res = defaultdict(list) #map charCount to list of anagrams\n",
    "\n",
    "        for s in strs:\n",
    "            count = [0] * 26  #a.......z\n",
    "            for c in s:\n",
    "                count[ord(c)-ord('a')] += 1  #using ascii values\n",
    "\n",
    "            res[tuple(count)].append(s)\n",
    "\n",
    "        return res.values()\n",
    "\n",
    "        \n",
    "        "
   ]
  }
 ],
 "metadata": {
  "kernelspec": {
   "display_name": "Python 3 (ipykernel)",
   "language": "python",
   "name": "python3"
  },
  "language_info": {
   "codemirror_mode": {
    "name": "ipython",
    "version": 3
   },
   "file_extension": ".py",
   "mimetype": "text/x-python",
   "name": "python",
   "nbconvert_exporter": "python",
   "pygments_lexer": "ipython3",
   "version": "3.9.7"
  }
 },
 "nbformat": 4,
 "nbformat_minor": 5
}
