{
 "cells": [
  {
   "cell_type": "code",
   "execution_count": 6,
   "id": "ffc5c033",
   "metadata": {},
   "outputs": [],
   "source": [
    "from typing import List\n",
    "\n",
    "class Solution:\n",
    "    def productExceptSelf(self, nums: List[int]) -> List[int]:\n",
    "        #calculate product of array elements before a particular index and after the index\n",
    "        #then multiply both of themto get answer\n",
    "\n",
    "        #here, we will use two-pass method\n",
    "        res = [1]*len(nums)\n",
    "\n",
    "        #first pass: scan through array and store prefixes\n",
    "        prefix = 1\n",
    "        for i in range(len(nums)):\n",
    "            res[i] *= prefix\n",
    "            prefix *= nums[i]\n",
    "\n",
    "        #second pass: scan from back of the array and update res values\n",
    "        postfix = 1\n",
    "        for i in range(len(nums)-1, -1, -1):\n",
    "            res[i] *= postfix\n",
    "            postfix *= nums[i]\n",
    "\n",
    "        return res\n",
    "\n",
    "\n",
    "\n",
    "\n",
    "\n",
    "\n",
    "\n",
    "        "
   ]
  },
  {
   "cell_type": "code",
   "execution_count": 7,
   "id": "df129d2b",
   "metadata": {},
   "outputs": [
    {
     "name": "stdout",
     "output_type": "stream",
     "text": [
      "[1, 1, -1, 0, 0]\n"
     ]
    }
   ],
   "source": [
    "sol = Solution()\n",
    "print(sol.productExceptSelf([1,-1,0,-3,3]))"
   ]
  },
  {
   "cell_type": "code",
   "execution_count": null,
   "id": "fd4f05a2",
   "metadata": {},
   "outputs": [],
   "source": []
  }
 ],
 "metadata": {
  "kernelspec": {
   "display_name": "Python 3 (ipykernel)",
   "language": "python",
   "name": "python3"
  },
  "language_info": {
   "codemirror_mode": {
    "name": "ipython",
    "version": 3
   },
   "file_extension": ".py",
   "mimetype": "text/x-python",
   "name": "python",
   "nbconvert_exporter": "python",
   "pygments_lexer": "ipython3",
   "version": "3.9.7"
  }
 },
 "nbformat": 4,
 "nbformat_minor": 5
}
